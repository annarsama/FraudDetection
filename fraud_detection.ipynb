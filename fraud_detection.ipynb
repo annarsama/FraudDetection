{
 "cells": [
  {
   "cell_type": "markdown",
   "metadata": {},
   "source": [
    "# Installation des librairies nécessaires"
   ]
  },
  {
   "cell_type": "code",
   "execution_count": 1,
   "metadata": {},
   "outputs": [],
   "source": [
    "#import tensorflow as tf\n",
    "#from tensorflow import keras\n",
    "\n",
    "#import os\n",
    "#import tempfile\n",
    "\n",
    "import matplotlib.pyplot as plt\n",
    "import numpy as np\n",
    "import pandas as pd\n",
    "import seaborn as sns\n",
    "from sklearn.preprocessing import StandardScaler"
   ]
  },
  {
   "cell_type": "markdown",
   "metadata": {},
   "source": [
    "# Chargement des données"
   ]
  },
  {
   "cell_type": "code",
   "execution_count": 2,
   "metadata": {},
   "outputs": [
    {
     "name": "stderr",
     "output_type": "stream",
     "text": [
      "/var/folders/mk/hc7kkglj5fncc3271_yfcf6r0000gn/T/ipykernel_23198/2286139514.py:1: DtypeWarning: Columns (1,2,3,5,6,7,8,9,10,11,12,13,14,15,16,17,18,19,20,21,22) have mixed types. Specify dtype option on import or set low_memory=False.\n",
      "  data = pd.read_csv('/Users/annabellenarsama/Desktop/FouillesDonneesMassives/guillaume.txt', sep=';', decimal=',')\n"
     ]
    },
    {
     "data": {
      "text/html": [
       "<div>\n",
       "<style scoped>\n",
       "    .dataframe tbody tr th:only-of-type {\n",
       "        vertical-align: middle;\n",
       "    }\n",
       "\n",
       "    .dataframe tbody tr th {\n",
       "        vertical-align: top;\n",
       "    }\n",
       "\n",
       "    .dataframe thead th {\n",
       "        text-align: right;\n",
       "    }\n",
       "</style>\n",
       "<table border=\"1\" class=\"dataframe\">\n",
       "  <thead>\n",
       "    <tr style=\"text-align: right;\">\n",
       "      <th></th>\n",
       "      <th>ZIBZIN</th>\n",
       "      <th>IDAvisAutorisationCheque</th>\n",
       "      <th>FlagImpaye</th>\n",
       "      <th>Montant</th>\n",
       "      <th>DateTransaction</th>\n",
       "      <th>CodeDecision</th>\n",
       "      <th>VerifianceCPT1</th>\n",
       "      <th>VerifianceCPT2</th>\n",
       "      <th>VerifianceCPT3</th>\n",
       "      <th>D2CB</th>\n",
       "      <th>...</th>\n",
       "      <th>TauxImpNb_RB</th>\n",
       "      <th>TauxImpNB_CPM</th>\n",
       "      <th>EcartNumCheq</th>\n",
       "      <th>NbrMagasin3J</th>\n",
       "      <th>DiffDateTr1</th>\n",
       "      <th>DiffDateTr2</th>\n",
       "      <th>DiffDateTr3</th>\n",
       "      <th>CA3TRetMtt</th>\n",
       "      <th>CA3TR</th>\n",
       "      <th>Heure</th>\n",
       "    </tr>\n",
       "  </thead>\n",
       "  <tbody>\n",
       "    <tr>\n",
       "      <th>0</th>\n",
       "      <td>A013010004908126703060931</td>\n",
       "      <td>78643044</td>\n",
       "      <td>0</td>\n",
       "      <td>20.0</td>\n",
       "      <td>2017-02-01 07:32:14</td>\n",
       "      <td>1</td>\n",
       "      <td>0</td>\n",
       "      <td>0</td>\n",
       "      <td>0</td>\n",
       "      <td>551</td>\n",
       "      <td>...</td>\n",
       "      <td>37.186668</td>\n",
       "      <td>52.076034</td>\n",
       "      <td>0</td>\n",
       "      <td>1</td>\n",
       "      <td>4.0</td>\n",
       "      <td>4.0</td>\n",
       "      <td>4.0</td>\n",
       "      <td>20.0</td>\n",
       "      <td>0.0</td>\n",
       "      <td>27134</td>\n",
       "    </tr>\n",
       "    <tr>\n",
       "      <th>1</th>\n",
       "      <td>A013011306908024927155000</td>\n",
       "      <td>78643045</td>\n",
       "      <td>0</td>\n",
       "      <td>20.0</td>\n",
       "      <td>2017-02-01 07:43:37</td>\n",
       "      <td>1</td>\n",
       "      <td>0</td>\n",
       "      <td>0</td>\n",
       "      <td>0</td>\n",
       "      <td>551</td>\n",
       "      <td>...</td>\n",
       "      <td>48.844716</td>\n",
       "      <td>52.076034</td>\n",
       "      <td>1</td>\n",
       "      <td>2</td>\n",
       "      <td>1.797685</td>\n",
       "      <td>4.0</td>\n",
       "      <td>4.0</td>\n",
       "      <td>28.61</td>\n",
       "      <td>8.61</td>\n",
       "      <td>27817</td>\n",
       "    </tr>\n",
       "    <tr>\n",
       "      <th>2</th>\n",
       "      <td>A013010002908283134592527</td>\n",
       "      <td>78643046</td>\n",
       "      <td>0</td>\n",
       "      <td>57.64</td>\n",
       "      <td>2017-02-01 07:47:38</td>\n",
       "      <td>1</td>\n",
       "      <td>0</td>\n",
       "      <td>0</td>\n",
       "      <td>0</td>\n",
       "      <td>549</td>\n",
       "      <td>...</td>\n",
       "      <td>73.11828</td>\n",
       "      <td>52.076034</td>\n",
       "      <td>0</td>\n",
       "      <td>1</td>\n",
       "      <td>4.0</td>\n",
       "      <td>4.0</td>\n",
       "      <td>4.0</td>\n",
       "      <td>57.64</td>\n",
       "      <td>0.0</td>\n",
       "      <td>28058</td>\n",
       "    </tr>\n",
       "    <tr>\n",
       "      <th>3</th>\n",
       "      <td>A011010002908105209831316</td>\n",
       "      <td>78643047</td>\n",
       "      <td>0</td>\n",
       "      <td>54.29</td>\n",
       "      <td>2017-02-01 07:48:48</td>\n",
       "      <td>0</td>\n",
       "      <td>1</td>\n",
       "      <td>1</td>\n",
       "      <td>1</td>\n",
       "      <td>267</td>\n",
       "      <td>...</td>\n",
       "      <td>110.056926</td>\n",
       "      <td>53.554234</td>\n",
       "      <td>0</td>\n",
       "      <td>1</td>\n",
       "      <td>4.0</td>\n",
       "      <td>4.0</td>\n",
       "      <td>4.0</td>\n",
       "      <td>54.29</td>\n",
       "      <td>0.0</td>\n",
       "      <td>28128</td>\n",
       "    </tr>\n",
       "    <tr>\n",
       "      <th>4</th>\n",
       "      <td>A013010041908000125652029</td>\n",
       "      <td>78643048</td>\n",
       "      <td>0</td>\n",
       "      <td>26.9</td>\n",
       "      <td>2017-02-01 08:13:27</td>\n",
       "      <td>1</td>\n",
       "      <td>0</td>\n",
       "      <td>0</td>\n",
       "      <td>0</td>\n",
       "      <td>549</td>\n",
       "      <td>...</td>\n",
       "      <td>45.368313</td>\n",
       "      <td>52.076034</td>\n",
       "      <td>1</td>\n",
       "      <td>1</td>\n",
       "      <td>1.997106</td>\n",
       "      <td>4.0</td>\n",
       "      <td>4.0</td>\n",
       "      <td>59.15</td>\n",
       "      <td>32.25</td>\n",
       "      <td>29607</td>\n",
       "    </tr>\n",
       "  </tbody>\n",
       "</table>\n",
       "<p>5 rows × 23 columns</p>\n",
       "</div>"
      ],
      "text/plain": [
       "                      ZIBZIN IDAvisAutorisationCheque FlagImpaye Montant  \\\n",
       "0  A013010004908126703060931                 78643044          0    20.0   \n",
       "1  A013011306908024927155000                 78643045          0    20.0   \n",
       "2  A013010002908283134592527                 78643046          0   57.64   \n",
       "3  A011010002908105209831316                 78643047          0   54.29   \n",
       "4  A013010041908000125652029                 78643048          0    26.9   \n",
       "\n",
       "       DateTransaction CodeDecision VerifianceCPT1 VerifianceCPT2  \\\n",
       "0  2017-02-01 07:32:14            1              0              0   \n",
       "1  2017-02-01 07:43:37            1              0              0   \n",
       "2  2017-02-01 07:47:38            1              0              0   \n",
       "3  2017-02-01 07:48:48            0              1              1   \n",
       "4  2017-02-01 08:13:27            1              0              0   \n",
       "\n",
       "  VerifianceCPT3 D2CB  ... TauxImpNb_RB TauxImpNB_CPM EcartNumCheq  \\\n",
       "0              0  551  ...    37.186668     52.076034            0   \n",
       "1              0  551  ...    48.844716     52.076034            1   \n",
       "2              0  549  ...     73.11828     52.076034            0   \n",
       "3              1  267  ...   110.056926     53.554234            0   \n",
       "4              0  549  ...    45.368313     52.076034            1   \n",
       "\n",
       "  NbrMagasin3J DiffDateTr1 DiffDateTr2 DiffDateTr3 CA3TRetMtt  CA3TR  Heure  \n",
       "0            1         4.0         4.0         4.0       20.0    0.0  27134  \n",
       "1            2    1.797685         4.0         4.0      28.61   8.61  27817  \n",
       "2            1         4.0         4.0         4.0      57.64    0.0  28058  \n",
       "3            1         4.0         4.0         4.0      54.29    0.0  28128  \n",
       "4            1    1.997106         4.0         4.0      59.15  32.25  29607  \n",
       "\n",
       "[5 rows x 23 columns]"
      ]
     },
     "execution_count": 2,
     "metadata": {},
     "output_type": "execute_result"
    }
   ],
   "source": [
    "data = pd.read_csv('/Users/annabellenarsama/Desktop/FouillesDonneesMassives/guillaume.txt', sep=';', decimal=',')\n",
    "data.head()"
   ]
  },
  {
   "cell_type": "markdown",
   "metadata": {},
   "source": [
    "# Description des données"
   ]
  },
  {
   "cell_type": "code",
   "execution_count": 3,
   "metadata": {},
   "outputs": [
    {
     "name": "stdout",
     "output_type": "stream",
     "text": [
      "<class 'pandas.core.frame.DataFrame'>\n",
      "RangeIndex: 4646774 entries, 0 to 4646773\n",
      "Data columns (total 23 columns):\n",
      " #   Column                    Dtype \n",
      "---  ------                    ----- \n",
      " 0   ZIBZIN                    object\n",
      " 1   IDAvisAutorisationCheque  object\n",
      " 2   FlagImpaye                object\n",
      " 3   Montant                   object\n",
      " 4   DateTransaction           object\n",
      " 5   CodeDecision              object\n",
      " 6   VerifianceCPT1            object\n",
      " 7   VerifianceCPT2            object\n",
      " 8   VerifianceCPT3            object\n",
      " 9   D2CB                      object\n",
      " 10  ScoringFP1                object\n",
      " 11  ScoringFP2                object\n",
      " 12  ScoringFP3                object\n",
      " 13  TauxImpNb_RB              object\n",
      " 14  TauxImpNB_CPM             object\n",
      " 15  EcartNumCheq              object\n",
      " 16  NbrMagasin3J              object\n",
      " 17  DiffDateTr1               object\n",
      " 18  DiffDateTr2               object\n",
      " 19  DiffDateTr3               object\n",
      " 20  CA3TRetMtt                object\n",
      " 21  CA3TR                     object\n",
      " 22  Heure                     object\n",
      "dtypes: object(23)\n",
      "memory usage: 815.4+ MB\n"
     ]
    }
   ],
   "source": [
    "data.info()"
   ]
  },
  {
   "cell_type": "code",
   "execution_count": 4,
   "metadata": {},
   "outputs": [
    {
     "name": "stdout",
     "output_type": "stream",
     "text": [
      "Dimensions : (4646774, 23) \n",
      "\n",
      "Classe : <class 'pandas.core.frame.DataFrame'> \n",
      "\n",
      "Variables : \n",
      " Index(['ZIBZIN', 'IDAvisAutorisationCheque', 'FlagImpaye', 'Montant',\n",
      "       'DateTransaction', 'CodeDecision', 'VerifianceCPT1', 'VerifianceCPT2',\n",
      "       'VerifianceCPT3', 'D2CB', 'ScoringFP1', 'ScoringFP2', 'ScoringFP3',\n",
      "       'TauxImpNb_RB', 'TauxImpNB_CPM', 'EcartNumCheq', 'NbrMagasin3J',\n",
      "       'DiffDateTr1', 'DiffDateTr2', 'DiffDateTr3', 'CA3TRetMtt', 'CA3TR',\n",
      "       'Heure'],\n",
      "      dtype='object')\n"
     ]
    }
   ],
   "source": [
    "print(\"Dimensions :\", data.shape, '\\n') # 4,646,774 observations, 23 variables\n",
    "print(\"Classe :\", type(data), '\\n') # df\n",
    "print(\"Variables : \\n\", data.columns)"
   ]
  },
  {
   "cell_type": "markdown",
   "metadata": {},
   "source": [
    "# Suppresion des variables inutiles"
   ]
  },
  {
   "cell_type": "code",
   "execution_count": 5,
   "metadata": {},
   "outputs": [
    {
     "data": {
      "text/plain": [
       "ZIBZIN                                        ZIBZIN\n",
       "IDAvisAutorisationCheque    IDAvisAutorisationCheque\n",
       "FlagImpaye                                FlagImpaye\n",
       "Montant                                      Montant\n",
       "DateTransaction                      DateTransaction\n",
       "CodeDecision                            CodeDecision\n",
       "VerifianceCPT1                        VerifianceCPT1\n",
       "VerifianceCPT2                        VerifianceCPT2\n",
       "VerifianceCPT3                        VerifianceCPT3\n",
       "D2CB                                            D2CB\n",
       "ScoringFP1                                ScoringFP1\n",
       "ScoringFP2                                ScoringFP2\n",
       "ScoringFP3                                ScoringFP3\n",
       "TauxImpNb_RB                            TauxImpNb_RB\n",
       "TauxImpNB_CPM                          TauxImpNB_CPM\n",
       "EcartNumCheq                            EcartNumCheq\n",
       "NbrMagasin3J                            NbrMagasin3J\n",
       "DiffDateTr1                              DiffDateTr1\n",
       "DiffDateTr2                              DiffDateTr2\n",
       "DiffDateTr3                              DiffDateTr3\n",
       "CA3TRetMtt                                CA3TRetMtt\n",
       "CA3TR                                          CA3TR\n",
       "Heure                                          Heure\n",
       "Name: 1956360, dtype: object"
      ]
     },
     "execution_count": 5,
     "metadata": {},
     "output_type": "execute_result"
    }
   ],
   "source": [
    "data.iloc[1956360]"
   ]
  },
  {
   "cell_type": "code",
   "execution_count": 6,
   "metadata": {},
   "outputs": [],
   "source": [
    "data.drop(1956360,inplace=True)"
   ]
  },
  {
   "cell_type": "code",
   "execution_count": 7,
   "metadata": {},
   "outputs": [],
   "source": [
    "data.drop(columns=['CodeDecision', 'ZIBZIN'], inplace=True)"
   ]
  },
  {
   "cell_type": "code",
   "execution_count": 8,
   "metadata": {},
   "outputs": [
    {
     "data": {
      "text/plain": [
       "(4646773, 21)"
      ]
     },
     "execution_count": 8,
     "metadata": {},
     "output_type": "execute_result"
    }
   ],
   "source": [
    "data.shape"
   ]
  },
  {
   "cell_type": "markdown",
   "metadata": {},
   "source": [
    "# Reformatage des variables restantes"
   ]
  },
  {
   "cell_type": "code",
   "execution_count": 9,
   "metadata": {},
   "outputs": [
    {
     "name": "stdout",
     "output_type": "stream",
     "text": [
      "object\n",
      "float64\n"
     ]
    }
   ],
   "source": [
    "# Reformatage de la variable 'Montant' en variable quantitative :\n",
    "print(data['Montant'].dtypes) # object\n",
    "data['Montant'] = data['Montant'].astype(str).str.replace(\",\", \".\").astype(float)\n",
    "\n",
    "# Vérification du type de la variable :\n",
    "print(data['Montant'].dtypes) # float64"
   ]
  },
  {
   "cell_type": "code",
   "execution_count": 10,
   "metadata": {},
   "outputs": [
    {
     "name": "stdout",
     "output_type": "stream",
     "text": [
      "ScoringFP1 : object\n",
      "ScoringFP2 : object\n",
      "ScoringFP3 : object\n",
      "ScoringFP1 : float64\n",
      "ScoringFP2 : float64\n",
      "ScoringFP3 : float64\n"
     ]
    }
   ],
   "source": [
    "# Reformatage des variables 'Scoring' en variables quantitatives :\n",
    "\n",
    "print(\"ScoringFP1 :\", data['ScoringFP1'].dtypes) # object\n",
    "data['ScoringFP1'] = data['ScoringFP1'].astype(str).str.replace(\",\", \".\").astype(float)\n",
    "\n",
    "print(\"ScoringFP2 :\", data['ScoringFP2'].dtypes) # object\n",
    "data['ScoringFP2'] = data['ScoringFP2'].astype(str).str.replace(\",\", \".\").astype(float)\n",
    "\n",
    "print(\"ScoringFP3 :\", data['ScoringFP3'].dtypes) # object\n",
    "data['ScoringFP3'] = data['ScoringFP3'].astype(str).str.replace(\",\", \".\").astype(float)\n",
    "\n",
    "# Vérification du type des variables 'Scoring' :\n",
    "\n",
    "print(\"ScoringFP1 :\", data['ScoringFP1'].dtypes) # float64\n",
    "\n",
    "print(\"ScoringFP2 :\", data['ScoringFP2'].dtypes) # float64\n",
    "\n",
    "print(\"ScoringFP3 :\", data['ScoringFP3'].dtypes) # float64"
   ]
  },
  {
   "cell_type": "code",
   "execution_count": 11,
   "metadata": {},
   "outputs": [
    {
     "name": "stdout",
     "output_type": "stream",
     "text": [
      "TauxImpNb_RB : object\n",
      "TauxImpNB_CPM : object\n",
      "TauxImpNb_RB : float64\n",
      "TauxImpNB_CPM : float64\n"
     ]
    }
   ],
   "source": [
    "# Reformatage des variables 'TauxImp' en variables quantitatives :\n",
    "\n",
    "print('TauxImpNb_RB :', data['TauxImpNb_RB'].dtypes) # object\n",
    "data['TauxImpNb_RB'] = data['TauxImpNb_RB'].astype(str).str.replace(\",\", \".\").astype(float)\n",
    "\n",
    "print('TauxImpNB_CPM :', data['TauxImpNB_CPM'].dtypes) # object\n",
    "data['TauxImpNB_CPM'] = data['TauxImpNB_CPM'].astype(str).str.replace(\",\", \".\").astype(float)\n",
    "\n",
    "# Vérification du type des variables :\n",
    "\n",
    "print('TauxImpNb_RB :', data['TauxImpNb_RB'].dtypes) # float64\n",
    "\n",
    "print('TauxImpNB_CPM :', data['TauxImpNB_CPM'].dtypes) # float64"
   ]
  },
  {
   "cell_type": "code",
   "execution_count": 12,
   "metadata": {},
   "outputs": [
    {
     "name": "stdout",
     "output_type": "stream",
     "text": [
      "DiffDateTr1 : object\n",
      "DiffDateTr2 : object\n",
      "DiffDateTr3 : object\n",
      "DiffDateTr1 : float64\n",
      "DiffDateTr2 : float64\n",
      "DiffDateTr3 : float64\n"
     ]
    }
   ],
   "source": [
    "# Reformatage des variables 'DiffDate' en variables quantitatives :\n",
    "\n",
    "print('DiffDateTr1 :', data['DiffDateTr1'].dtypes) # object\n",
    "data['DiffDateTr1'] = data['DiffDateTr1'].astype(str).str.replace(\",\", \".\").astype(float)\n",
    "\n",
    "print('DiffDateTr2 :', data['DiffDateTr2'].dtypes) # object\n",
    "data['DiffDateTr2'] = data['DiffDateTr2'].astype(str).str.replace(\",\", \".\").astype(float)\n",
    "\n",
    "print('DiffDateTr3 :', data['DiffDateTr3'].dtypes) # object\n",
    "data['DiffDateTr3'] = data['DiffDateTr3'].astype(str).str.replace(\",\", \".\").astype(float)\n",
    "\n",
    "# Vérification du type des variables :\n",
    "\n",
    "print('DiffDateTr1 :', data['DiffDateTr1'].dtypes) # float64\n",
    "\n",
    "print('DiffDateTr2 :', data['DiffDateTr2'].dtypes) # float64\n",
    "\n",
    "print('DiffDateTr3 :', data['DiffDateTr3'].dtypes) # float64"
   ]
  },
  {
   "cell_type": "code",
   "execution_count": 13,
   "metadata": {},
   "outputs": [
    {
     "name": "stdout",
     "output_type": "stream",
     "text": [
      "CA3TRetMtt : object\n",
      "CA3TR : object\n",
      "CA3TRetMtt : float64\n",
      "CA3TR : float64\n"
     ]
    }
   ],
   "source": [
    "# Reformatage des variables 'CAT3TR' en variable quantitative :\n",
    "\n",
    "print('CA3TRetMtt :', data['CA3TRetMtt'].dtypes) # object\n",
    "data['CA3TRetMtt'] = data['CA3TRetMtt'].astype(str).str.replace(\",\", \".\").astype(float)\n",
    "\n",
    "print('CA3TR :', data['CA3TR'].dtypes) # object\n",
    "data['CA3TR'] = data['CA3TR'].astype(str).str.replace(\",\", \".\").astype(float)\n",
    "\n",
    "# Vérification du type de Valeur foncière :\n",
    "\n",
    "print('CA3TRetMtt :', data['CA3TRetMtt'].dtypes) # float64\n",
    "\n",
    "print('CA3TR :', data['CA3TR'].dtypes) # float64"
   ]
  },
  {
   "cell_type": "code",
   "execution_count": 14,
   "metadata": {},
   "outputs": [
    {
     "name": "stdout",
     "output_type": "stream",
     "text": [
      "DateTransaction : object\n",
      "Date : \n",
      " Année      int32\n",
      "Mois       int32\n",
      "Jour       int32\n",
      "Heure      int32\n",
      "Minute     int32\n",
      "Seconde    int32\n",
      "dtype: object\n"
     ]
    }
   ],
   "source": [
    "print('DateTransaction :', data['DateTransaction'].dtypes)\n",
    "data['DateTransaction'] = pd.to_datetime(data['DateTransaction'], yearfirst=True)\n",
    "\n",
    "# Création de trois nouvelles colonnes : Année, Mois, Jour\n",
    "data['Année'] = data['DateTransaction'].dt.year\n",
    "data['Mois'] = data['DateTransaction'].dt.month\n",
    "data['Jour'] = data['DateTransaction'].dt.day\n",
    "\n",
    "# Création de trois nouvelles colonnes : Heure, Minute, Seconde\n",
    "data['Heure'] = data['DateTransaction'].dt.hour\n",
    "data['Minute'] = data['DateTransaction'].dt.minute\n",
    "data['Seconde'] = data['DateTransaction'].dt.second\n",
    "\n",
    "print('Date : \\n', data[['Année', 'Mois', 'Jour', 'Heure', 'Minute', 'Seconde']].dtypes)"
   ]
  },
  {
   "cell_type": "code",
   "execution_count": 15,
   "metadata": {},
   "outputs": [],
   "source": [
    "data[\"VerifianceCPT1\"] = data[\"VerifianceCPT1\"].astype(float)\n",
    "data[\"VerifianceCPT2\"] = data[\"VerifianceCPT2\"].astype(float)\n",
    "data[\"VerifianceCPT3\"] = data[\"VerifianceCPT3\"].astype(float)\n",
    "data[\"IDAvisAutorisationCheque\"] = data[\"IDAvisAutorisationCheque\"].astype(float)\n",
    "data[\"EcartNumCheq\"] = data[\"EcartNumCheq\"].astype(float)\n",
    "data[\"NbrMagasin3J\"] = data[\"NbrMagasin3J\"].astype(float)\n",
    "data[\"D2CB\"] = data[\"D2CB\"].astype(float)"
   ]
  },
  {
   "cell_type": "code",
   "execution_count": 16,
   "metadata": {},
   "outputs": [
    {
     "name": "stdout",
     "output_type": "stream",
     "text": [
      "FlagImpaye : object\n",
      "FlagImpaye : bool \n",
      "\n",
      "Modalités de la cible : [False  True]\n"
     ]
    }
   ],
   "source": [
    "# Reformatage de 'FlagImpaye' en booléen :\n",
    "print('FlagImpaye :', data['FlagImpaye'].dtypes)\n",
    "data['FlagImpaye'] = data['FlagImpaye'].astype(bool)\n",
    "\n",
    "# Vérification du reformatage :\n",
    "print('FlagImpaye :', data['FlagImpaye'].dtypes, \"\\n\")\n",
    "\n",
    "# Modalités de la variable :\n",
    "print('Modalités de la cible :', data['FlagImpaye'].unique()) # vérification des valeurs booléennes de la variable FlagImpaye"
   ]
  },
  {
   "cell_type": "code",
   "execution_count": 17,
   "metadata": {},
   "outputs": [
    {
     "data": {
      "text/plain": [
       "IDAvisAutorisationCheque           float64\n",
       "FlagImpaye                            bool\n",
       "Montant                            float64\n",
       "DateTransaction             datetime64[ns]\n",
       "VerifianceCPT1                     float64\n",
       "VerifianceCPT2                     float64\n",
       "VerifianceCPT3                     float64\n",
       "D2CB                               float64\n",
       "ScoringFP1                         float64\n",
       "ScoringFP2                         float64\n",
       "ScoringFP3                         float64\n",
       "TauxImpNb_RB                       float64\n",
       "TauxImpNB_CPM                      float64\n",
       "EcartNumCheq                       float64\n",
       "NbrMagasin3J                       float64\n",
       "DiffDateTr1                        float64\n",
       "DiffDateTr2                        float64\n",
       "DiffDateTr3                        float64\n",
       "CA3TRetMtt                         float64\n",
       "CA3TR                              float64\n",
       "Heure                                int32\n",
       "Année                                int32\n",
       "Mois                                 int32\n",
       "Jour                                 int32\n",
       "Minute                               int32\n",
       "Seconde                              int32\n",
       "dtype: object"
      ]
     },
     "execution_count": 17,
     "metadata": {},
     "output_type": "execute_result"
    }
   ],
   "source": [
    "data.dtypes"
   ]
  },
  {
   "cell_type": "markdown",
   "metadata": {},
   "source": [
    "# Classe majoritaire (négative) vs. Classe minoritaire (positive)"
   ]
  },
  {
   "cell_type": "code",
   "execution_count": 18,
   "metadata": {},
   "outputs": [
    {
     "name": "stdout",
     "output_type": "stream",
     "text": [
      "Examples:\n",
      "    Total: 4646773\n",
      "   Positive: 62622 (1.35% of total)\n",
      "\n"
     ]
    }
   ],
   "source": [
    "neg, pos = np.bincount(data['FlagImpaye'])\n",
    "total = neg + pos\n",
    "print('Examples:\\n    Total: {}\\n   Positive: {} ({:.2f}% of total)\\n'.format(\n",
    "    total, pos, 100 * pos / total))\n",
    "\n",
    "# https://www.tensorflow.org/tutorials/structured_data/imbalanced_data?hl=fr\n"
   ]
  },
  {
   "cell_type": "code",
   "execution_count": 19,
   "metadata": {},
   "outputs": [
    {
     "name": "stdout",
     "output_type": "stream",
     "text": [
      "Imbalance Ratio: 73.20352272364345\n"
     ]
    }
   ],
   "source": [
    "IR = neg/pos\n",
    "print(f'Imbalance Ratio: {IR}')"
   ]
  },
  {
   "cell_type": "markdown",
   "metadata": {},
   "source": [
    "# Plot des classes"
   ]
  },
  {
   "cell_type": "code",
   "execution_count": 20,
   "metadata": {},
   "outputs": [
    {
     "data": {
      "text/plain": [
       "<Axes: xlabel='count', ylabel='FlagImpaye'>"
      ]
     },
     "execution_count": 20,
     "metadata": {},
     "output_type": "execute_result"
    },
    {
     "data": {
      "image/png": "[encoded data removed]",
      "text/plain": [
       "<Figure size 640x480 with 1 Axes>"
      ]
     },
     "metadata": {},
     "output_type": "display_data"
    }
   ],
   "source": [
    "sns.barplot(data['FlagImpaye'].value_counts(), orient='h', color='green')"
   ]
  },
  {
   "cell_type": "markdown",
   "metadata": {},
   "source": [
    "# Train-Test Split"
   ]
  },
  {
   "cell_type": "code",
   "execution_count": 21,
   "metadata": {},
   "outputs": [
    {
     "data": {
      "text/html": [
       "<div>\n",
       "<style scoped>\n",
       "    .dataframe tbody tr th:only-of-type {\n",
       "        vertical-align: middle;\n",
       "    }\n",
       "\n",
       "    .dataframe tbody tr th {\n",
       "        vertical-align: top;\n",
       "    }\n",
       "\n",
       "    .dataframe thead th {\n",
       "        text-align: right;\n",
       "    }\n",
       "</style>\n",
       "<table border=\"1\" class=\"dataframe\">\n",
       "  <thead>\n",
       "    <tr style=\"text-align: right;\">\n",
       "      <th></th>\n",
       "      <th>IDAvisAutorisationCheque</th>\n",
       "      <th>FlagImpaye</th>\n",
       "      <th>Montant</th>\n",
       "      <th>DateTransaction</th>\n",
       "      <th>VerifianceCPT1</th>\n",
       "      <th>VerifianceCPT2</th>\n",
       "      <th>VerifianceCPT3</th>\n",
       "      <th>D2CB</th>\n",
       "      <th>ScoringFP1</th>\n",
       "      <th>ScoringFP2</th>\n",
       "      <th>...</th>\n",
       "      <th>DiffDateTr2</th>\n",
       "      <th>DiffDateTr3</th>\n",
       "      <th>CA3TRetMtt</th>\n",
       "      <th>CA3TR</th>\n",
       "      <th>Heure</th>\n",
       "      <th>Année</th>\n",
       "      <th>Mois</th>\n",
       "      <th>Jour</th>\n",
       "      <th>Minute</th>\n",
       "      <th>Seconde</th>\n",
       "    </tr>\n",
       "  </thead>\n",
       "  <tbody>\n",
       "    <tr>\n",
       "      <th>0</th>\n",
       "      <td>78643044.0</td>\n",
       "      <td>False</td>\n",
       "      <td>20.00</td>\n",
       "      <td>2017-02-01 07:32:14</td>\n",
       "      <td>0.0</td>\n",
       "      <td>0.0</td>\n",
       "      <td>0.0</td>\n",
       "      <td>551.0</td>\n",
       "      <td>0.000000</td>\n",
       "      <td>0.000000</td>\n",
       "      <td>...</td>\n",
       "      <td>4.0</td>\n",
       "      <td>4.0</td>\n",
       "      <td>20.00</td>\n",
       "      <td>0.00</td>\n",
       "      <td>7</td>\n",
       "      <td>2017</td>\n",
       "      <td>2</td>\n",
       "      <td>1</td>\n",
       "      <td>32</td>\n",
       "      <td>14</td>\n",
       "    </tr>\n",
       "    <tr>\n",
       "      <th>1</th>\n",
       "      <td>78643045.0</td>\n",
       "      <td>False</td>\n",
       "      <td>20.00</td>\n",
       "      <td>2017-02-01 07:43:37</td>\n",
       "      <td>0.0</td>\n",
       "      <td>0.0</td>\n",
       "      <td>0.0</td>\n",
       "      <td>551.0</td>\n",
       "      <td>0.000000</td>\n",
       "      <td>0.000000</td>\n",
       "      <td>...</td>\n",
       "      <td>4.0</td>\n",
       "      <td>4.0</td>\n",
       "      <td>28.61</td>\n",
       "      <td>8.61</td>\n",
       "      <td>7</td>\n",
       "      <td>2017</td>\n",
       "      <td>2</td>\n",
       "      <td>1</td>\n",
       "      <td>43</td>\n",
       "      <td>37</td>\n",
       "    </tr>\n",
       "    <tr>\n",
       "      <th>2</th>\n",
       "      <td>78643046.0</td>\n",
       "      <td>False</td>\n",
       "      <td>57.64</td>\n",
       "      <td>2017-02-01 07:47:38</td>\n",
       "      <td>0.0</td>\n",
       "      <td>0.0</td>\n",
       "      <td>0.0</td>\n",
       "      <td>549.0</td>\n",
       "      <td>0.000000</td>\n",
       "      <td>0.000000</td>\n",
       "      <td>...</td>\n",
       "      <td>4.0</td>\n",
       "      <td>4.0</td>\n",
       "      <td>57.64</td>\n",
       "      <td>0.00</td>\n",
       "      <td>7</td>\n",
       "      <td>2017</td>\n",
       "      <td>2</td>\n",
       "      <td>1</td>\n",
       "      <td>47</td>\n",
       "      <td>38</td>\n",
       "    </tr>\n",
       "    <tr>\n",
       "      <th>1956361</th>\n",
       "      <td>78643047.0</td>\n",
       "      <td>True</td>\n",
       "      <td>54.29</td>\n",
       "      <td>2017-02-01 07:48:48</td>\n",
       "      <td>1.0</td>\n",
       "      <td>1.0</td>\n",
       "      <td>1.0</td>\n",
       "      <td>267.0</td>\n",
       "      <td>0.000000</td>\n",
       "      <td>0.000000</td>\n",
       "      <td>...</td>\n",
       "      <td>4.0</td>\n",
       "      <td>4.0</td>\n",
       "      <td>54.29</td>\n",
       "      <td>0.00</td>\n",
       "      <td>7</td>\n",
       "      <td>2017</td>\n",
       "      <td>2</td>\n",
       "      <td>1</td>\n",
       "      <td>48</td>\n",
       "      <td>48</td>\n",
       "    </tr>\n",
       "    <tr>\n",
       "      <th>3</th>\n",
       "      <td>78643047.0</td>\n",
       "      <td>False</td>\n",
       "      <td>54.29</td>\n",
       "      <td>2017-02-01 07:48:48</td>\n",
       "      <td>1.0</td>\n",
       "      <td>1.0</td>\n",
       "      <td>1.0</td>\n",
       "      <td>267.0</td>\n",
       "      <td>0.000000</td>\n",
       "      <td>0.000000</td>\n",
       "      <td>...</td>\n",
       "      <td>4.0</td>\n",
       "      <td>4.0</td>\n",
       "      <td>54.29</td>\n",
       "      <td>0.00</td>\n",
       "      <td>7</td>\n",
       "      <td>2017</td>\n",
       "      <td>2</td>\n",
       "      <td>1</td>\n",
       "      <td>48</td>\n",
       "      <td>48</td>\n",
       "    </tr>\n",
       "    <tr>\n",
       "      <th>...</th>\n",
       "      <td>...</td>\n",
       "      <td>...</td>\n",
       "      <td>...</td>\n",
       "      <td>...</td>\n",
       "      <td>...</td>\n",
       "      <td>...</td>\n",
       "      <td>...</td>\n",
       "      <td>...</td>\n",
       "      <td>...</td>\n",
       "      <td>...</td>\n",
       "      <td>...</td>\n",
       "      <td>...</td>\n",
       "      <td>...</td>\n",
       "      <td>...</td>\n",
       "      <td>...</td>\n",
       "      <td>...</td>\n",
       "      <td>...</td>\n",
       "      <td>...</td>\n",
       "      <td>...</td>\n",
       "      <td>...</td>\n",
       "      <td>...</td>\n",
       "    </tr>\n",
       "    <tr>\n",
       "      <th>4646769</th>\n",
       "      <td>84966399.0</td>\n",
       "      <td>False</td>\n",
       "      <td>23.94</td>\n",
       "      <td>2017-11-30 21:20:15</td>\n",
       "      <td>0.0</td>\n",
       "      <td>0.0</td>\n",
       "      <td>0.0</td>\n",
       "      <td>1.0</td>\n",
       "      <td>4.788000</td>\n",
       "      <td>-22.542614</td>\n",
       "      <td>...</td>\n",
       "      <td>5.0</td>\n",
       "      <td>5.0</td>\n",
       "      <td>23.94</td>\n",
       "      <td>0.00</td>\n",
       "      <td>21</td>\n",
       "      <td>2017</td>\n",
       "      <td>11</td>\n",
       "      <td>30</td>\n",
       "      <td>20</td>\n",
       "      <td>15</td>\n",
       "    </tr>\n",
       "    <tr>\n",
       "      <th>4646770</th>\n",
       "      <td>84966400.0</td>\n",
       "      <td>False</td>\n",
       "      <td>92.60</td>\n",
       "      <td>2017-11-30 21:22:49</td>\n",
       "      <td>0.0</td>\n",
       "      <td>0.0</td>\n",
       "      <td>0.0</td>\n",
       "      <td>514.0</td>\n",
       "      <td>0.060052</td>\n",
       "      <td>-2.236379</td>\n",
       "      <td>...</td>\n",
       "      <td>4.0</td>\n",
       "      <td>4.0</td>\n",
       "      <td>262.45</td>\n",
       "      <td>169.85</td>\n",
       "      <td>21</td>\n",
       "      <td>2017</td>\n",
       "      <td>11</td>\n",
       "      <td>30</td>\n",
       "      <td>22</td>\n",
       "      <td>49</td>\n",
       "    </tr>\n",
       "    <tr>\n",
       "      <th>4646771</th>\n",
       "      <td>84966401.0</td>\n",
       "      <td>False</td>\n",
       "      <td>69.00</td>\n",
       "      <td>2017-11-30 21:24:37</td>\n",
       "      <td>0.0</td>\n",
       "      <td>0.0</td>\n",
       "      <td>0.0</td>\n",
       "      <td>1.0</td>\n",
       "      <td>3.631579</td>\n",
       "      <td>-1.062954</td>\n",
       "      <td>...</td>\n",
       "      <td>5.0</td>\n",
       "      <td>5.0</td>\n",
       "      <td>69.00</td>\n",
       "      <td>0.00</td>\n",
       "      <td>21</td>\n",
       "      <td>2017</td>\n",
       "      <td>11</td>\n",
       "      <td>30</td>\n",
       "      <td>24</td>\n",
       "      <td>37</td>\n",
       "    </tr>\n",
       "    <tr>\n",
       "      <th>4646772</th>\n",
       "      <td>84966402.0</td>\n",
       "      <td>False</td>\n",
       "      <td>57.80</td>\n",
       "      <td>2017-11-30 21:57:32</td>\n",
       "      <td>0.0</td>\n",
       "      <td>0.0</td>\n",
       "      <td>0.0</td>\n",
       "      <td>1.0</td>\n",
       "      <td>28.900000</td>\n",
       "      <td>0.567666</td>\n",
       "      <td>...</td>\n",
       "      <td>5.0</td>\n",
       "      <td>5.0</td>\n",
       "      <td>57.80</td>\n",
       "      <td>0.00</td>\n",
       "      <td>21</td>\n",
       "      <td>2017</td>\n",
       "      <td>11</td>\n",
       "      <td>30</td>\n",
       "      <td>57</td>\n",
       "      <td>32</td>\n",
       "    </tr>\n",
       "    <tr>\n",
       "      <th>4646773</th>\n",
       "      <td>84966405.0</td>\n",
       "      <td>False</td>\n",
       "      <td>42.21</td>\n",
       "      <td>2017-11-30 22:07:13</td>\n",
       "      <td>0.0</td>\n",
       "      <td>0.0</td>\n",
       "      <td>0.0</td>\n",
       "      <td>461.0</td>\n",
       "      <td>0.004578</td>\n",
       "      <td>-26.658799</td>\n",
       "      <td>...</td>\n",
       "      <td>4.0</td>\n",
       "      <td>4.0</td>\n",
       "      <td>42.21</td>\n",
       "      <td>0.00</td>\n",
       "      <td>22</td>\n",
       "      <td>2017</td>\n",
       "      <td>11</td>\n",
       "      <td>30</td>\n",
       "      <td>7</td>\n",
       "      <td>13</td>\n",
       "    </tr>\n",
       "  </tbody>\n",
       "</table>\n",
       "<p>4646773 rows × 26 columns</p>\n",
       "</div>"
      ],
      "text/plain": [
       "         IDAvisAutorisationCheque  FlagImpaye  Montant     DateTransaction  \\\n",
       "0                      78643044.0       False    20.00 2017-02-01 07:32:14   \n",
       "1                      78643045.0       False    20.00 2017-02-01 07:43:37   \n",
       "2                      78643046.0       False    57.64 2017-02-01 07:47:38   \n",
       "1956361                78643047.0        True    54.29 2017-02-01 07:48:48   \n",
       "3                      78643047.0       False    54.29 2017-02-01 07:48:48   \n",
       "...                           ...         ...      ...                 ...   \n",
       "4646769                84966399.0       False    23.94 2017-11-30 21:20:15   \n",
       "4646770                84966400.0       False    92.60 2017-11-30 21:22:49   \n",
       "4646771                84966401.0       False    69.00 2017-11-30 21:24:37   \n",
       "4646772                84966402.0       False    57.80 2017-11-30 21:57:32   \n",
       "4646773                84966405.0       False    42.21 2017-11-30 22:07:13   \n",
       "\n",
       "         VerifianceCPT1  VerifianceCPT2  VerifianceCPT3   D2CB  ScoringFP1  \\\n",
       "0                   0.0             0.0             0.0  551.0    0.000000   \n",
       "1                   0.0             0.0             0.0  551.0    0.000000   \n",
       "2                   0.0             0.0             0.0  549.0    0.000000   \n",
       "1956361             1.0             1.0             1.0  267.0    0.000000   \n",
       "3                   1.0             1.0             1.0  267.0    0.000000   \n",
       "...                 ...             ...             ...    ...         ...   \n",
       "4646769             0.0             0.0             0.0    1.0    4.788000   \n",
       "4646770             0.0             0.0             0.0  514.0    0.060052   \n",
       "4646771             0.0             0.0             0.0    1.0    3.631579   \n",
       "4646772             0.0             0.0             0.0    1.0   28.900000   \n",
       "4646773             0.0             0.0             0.0  461.0    0.004578   \n",
       "\n",
       "         ScoringFP2  ...  DiffDateTr2  DiffDateTr3  CA3TRetMtt   CA3TR  Heure  \\\n",
       "0          0.000000  ...          4.0          4.0       20.00    0.00      7   \n",
       "1          0.000000  ...          4.0          4.0       28.61    8.61      7   \n",
       "2          0.000000  ...          4.0          4.0       57.64    0.00      7   \n",
       "1956361    0.000000  ...          4.0          4.0       54.29    0.00      7   \n",
       "3          0.000000  ...          4.0          4.0       54.29    0.00      7   \n",
       "...             ...  ...          ...          ...         ...     ...    ...   \n",
       "4646769  -22.542614  ...          5.0          5.0       23.94    0.00     21   \n",
       "4646770   -2.236379  ...          4.0          4.0      262.45  169.85     21   \n",
       "4646771   -1.062954  ...          5.0          5.0       69.00    0.00     21   \n",
       "4646772    0.567666  ...          5.0          5.0       57.80    0.00     21   \n",
       "4646773  -26.658799  ...          4.0          4.0       42.21    0.00     22   \n",
       "\n",
       "         Année  Mois  Jour  Minute  Seconde  \n",
       "0         2017     2     1      32       14  \n",
       "1         2017     2     1      43       37  \n",
       "2         2017     2     1      47       38  \n",
       "1956361   2017     2     1      48       48  \n",
       "3         2017     2     1      48       48  \n",
       "...        ...   ...   ...     ...      ...  \n",
       "4646769   2017    11    30      20       15  \n",
       "4646770   2017    11    30      22       49  \n",
       "4646771   2017    11    30      24       37  \n",
       "4646772   2017    11    30      57       32  \n",
       "4646773   2017    11    30       7       13  \n",
       "\n",
       "[4646773 rows x 26 columns]"
      ]
     },
     "execution_count": 21,
     "metadata": {},
     "output_type": "execute_result"
    }
   ],
   "source": [
    "# Trier les données en fonction de la date :\n",
    "df = data.sort_values(by='DateTransaction')\n",
    "df"
   ]
  },
  {
   "cell_type": "code",
   "execution_count": 22,
   "metadata": {},
   "outputs": [],
   "source": [
    "df.drop(columns=['DateTransaction'], inplace=True)"
   ]
  },
  {
   "cell_type": "code",
   "execution_count": 23,
   "metadata": {},
   "outputs": [
    {
     "data": {
      "text/plain": [
       "(4646773, 25)"
      ]
     },
     "execution_count": 23,
     "metadata": {},
     "output_type": "execute_result"
    }
   ],
   "source": [
    "df.shape"
   ]
  },
  {
   "cell_type": "code",
   "execution_count": 24,
   "metadata": {},
   "outputs": [],
   "source": [
    "# Split train/test sets selon la date de transaction :\n",
    "train_size = 0.7\n",
    "split_index = int(len(df) * train_size)\n",
    "\n",
    "train_data = df[:split_index]\n",
    "test_data = df[split_index:]"
   ]
  },
  {
   "cell_type": "code",
   "execution_count": 25,
   "metadata": {},
   "outputs": [],
   "source": [
    "# Split des features et du label :\n",
    "\n",
    "X_train = train_data.drop(columns=['FlagImpaye'])\n",
    "X_test = test_data.drop(columns=['FlagImpaye'])\n",
    "\n",
    "y_train = train_data['FlagImpaye']\n",
    "y_test = test_data['FlagImpaye']"
   ]
  },
  {
   "cell_type": "code",
   "execution_count": 26,
   "metadata": {},
   "outputs": [
    {
     "data": {
      "text/plain": [
       "(3252741, 24)"
      ]
     },
     "execution_count": 26,
     "metadata": {},
     "output_type": "execute_result"
    }
   ],
   "source": [
    "X_train.shape"
   ]
  },
  {
   "cell_type": "code",
   "execution_count": 27,
   "metadata": {},
   "outputs": [
    {
     "data": {
      "text/plain": [
       "(3252741,)"
      ]
     },
     "execution_count": 27,
     "metadata": {},
     "output_type": "execute_result"
    }
   ],
   "source": [
    "y_train.shape"
   ]
  },
  {
   "cell_type": "code",
   "execution_count": 28,
   "metadata": {},
   "outputs": [
    {
     "data": {
      "text/plain": [
       "(1394032, 24)"
      ]
     },
     "execution_count": 28,
     "metadata": {},
     "output_type": "execute_result"
    }
   ],
   "source": [
    "X_test.shape"
   ]
  },
  {
   "cell_type": "code",
   "execution_count": 29,
   "metadata": {},
   "outputs": [
    {
     "data": {
      "text/plain": [
       "(1394032,)"
      ]
     },
     "execution_count": 29,
     "metadata": {},
     "output_type": "execute_result"
    }
   ],
   "source": [
    "y_test.shape"
   ]
  },
  {
   "cell_type": "code",
   "execution_count": 30,
   "metadata": {},
   "outputs": [
    {
     "name": "stdout",
     "output_type": "stream",
     "text": [
      "Examples:\n",
      "    Total: 3252741\n",
      "   Positive: 50682 (1.56% of total)\n",
      "\n"
     ]
    }
   ],
   "source": [
    "# Imbalance Ratio du train set :\n",
    "\n",
    "neg, pos = np.bincount(y_train)\n",
    "total = neg + pos\n",
    "print('Examples:\\n    Total: {}\\n   Positive: {} ({:.2f}% of total)\\n'.format(\n",
    "    total, pos, 100 * pos / total))"
   ]
  },
  {
   "cell_type": "code",
   "execution_count": 31,
   "metadata": {},
   "outputs": [
    {
     "data": {
      "text/plain": [
       "63.1794128092814"
      ]
     },
     "execution_count": 31,
     "metadata": {},
     "output_type": "execute_result"
    }
   ],
   "source": [
    "neg/pos"
   ]
  },
  {
   "cell_type": "markdown",
   "metadata": {},
   "source": [
    "# Tomek Link (undersampling)"
   ]
  },
  {
   "cell_type": "code",
   "execution_count": 32,
   "metadata": {},
   "outputs": [],
   "source": [
    "#from imblearn.under_sampling import TomekLinks\n",
    "\n",
    "#tomek = TomekLinks(sampling_strategy='majority', n_jobs=8)\n",
    "\n",
    "#X_rus, y_rus = tomek.fit_resample(X_train, y_train)"
   ]
  },
  {
   "cell_type": "code",
   "execution_count": 33,
   "metadata": {},
   "outputs": [],
   "source": [
    "#predictor_names = X_train.columns\n",
    "\n",
    "#X_tl = pd.DataFrame(data=X_rus, columns=predictor_names)\n",
    "#y_tl = y_rus\n",
    "\n",
    "# Enregistrement du DataFrame dans un fichier CSV\n",
    "#X_tl.to_csv(\"X_tomek.csv\", index=False)\n",
    "#y_tl.to_csv(\"y_tomek.csv\", index=False)"
   ]
  },
  {
   "cell_type": "code",
   "execution_count": 34,
   "metadata": {},
   "outputs": [
    {
     "data": {
      "text/html": [
       "<div>\n",
       "<style scoped>\n",
       "    .dataframe tbody tr th:only-of-type {\n",
       "        vertical-align: middle;\n",
       "    }\n",
       "\n",
       "    .dataframe tbody tr th {\n",
       "        vertical-align: top;\n",
       "    }\n",
       "\n",
       "    .dataframe thead th {\n",
       "        text-align: right;\n",
       "    }\n",
       "</style>\n",
       "<table border=\"1\" class=\"dataframe\">\n",
       "  <thead>\n",
       "    <tr style=\"text-align: right;\">\n",
       "      <th></th>\n",
       "      <th>IDAvisAutorisationCheque</th>\n",
       "      <th>Montant</th>\n",
       "      <th>VerifianceCPT1</th>\n",
       "      <th>VerifianceCPT2</th>\n",
       "      <th>VerifianceCPT3</th>\n",
       "      <th>D2CB</th>\n",
       "      <th>ScoringFP1</th>\n",
       "      <th>ScoringFP2</th>\n",
       "      <th>ScoringFP3</th>\n",
       "      <th>TauxImpNb_RB</th>\n",
       "      <th>...</th>\n",
       "      <th>DiffDateTr2</th>\n",
       "      <th>DiffDateTr3</th>\n",
       "      <th>CA3TRetMtt</th>\n",
       "      <th>CA3TR</th>\n",
       "      <th>Heure</th>\n",
       "      <th>Année</th>\n",
       "      <th>Mois</th>\n",
       "      <th>Jour</th>\n",
       "      <th>Minute</th>\n",
       "      <th>Seconde</th>\n",
       "    </tr>\n",
       "  </thead>\n",
       "  <tbody>\n",
       "    <tr>\n",
       "      <th>0</th>\n",
       "      <td>78643044.0</td>\n",
       "      <td>20.00</td>\n",
       "      <td>0.0</td>\n",
       "      <td>0.0</td>\n",
       "      <td>0.0</td>\n",
       "      <td>551.0</td>\n",
       "      <td>0.0</td>\n",
       "      <td>0.0</td>\n",
       "      <td>0.0</td>\n",
       "      <td>37.186668</td>\n",
       "      <td>...</td>\n",
       "      <td>4.0</td>\n",
       "      <td>4.0</td>\n",
       "      <td>20.00</td>\n",
       "      <td>0.00</td>\n",
       "      <td>7</td>\n",
       "      <td>2017</td>\n",
       "      <td>2</td>\n",
       "      <td>1</td>\n",
       "      <td>32</td>\n",
       "      <td>14</td>\n",
       "    </tr>\n",
       "    <tr>\n",
       "      <th>1</th>\n",
       "      <td>78643045.0</td>\n",
       "      <td>20.00</td>\n",
       "      <td>0.0</td>\n",
       "      <td>0.0</td>\n",
       "      <td>0.0</td>\n",
       "      <td>551.0</td>\n",
       "      <td>0.0</td>\n",
       "      <td>0.0</td>\n",
       "      <td>0.0</td>\n",
       "      <td>48.844716</td>\n",
       "      <td>...</td>\n",
       "      <td>4.0</td>\n",
       "      <td>4.0</td>\n",
       "      <td>28.61</td>\n",
       "      <td>8.61</td>\n",
       "      <td>7</td>\n",
       "      <td>2017</td>\n",
       "      <td>2</td>\n",
       "      <td>1</td>\n",
       "      <td>43</td>\n",
       "      <td>37</td>\n",
       "    </tr>\n",
       "    <tr>\n",
       "      <th>2</th>\n",
       "      <td>78643046.0</td>\n",
       "      <td>57.64</td>\n",
       "      <td>0.0</td>\n",
       "      <td>0.0</td>\n",
       "      <td>0.0</td>\n",
       "      <td>549.0</td>\n",
       "      <td>0.0</td>\n",
       "      <td>0.0</td>\n",
       "      <td>0.0</td>\n",
       "      <td>73.118280</td>\n",
       "      <td>...</td>\n",
       "      <td>4.0</td>\n",
       "      <td>4.0</td>\n",
       "      <td>57.64</td>\n",
       "      <td>0.00</td>\n",
       "      <td>7</td>\n",
       "      <td>2017</td>\n",
       "      <td>2</td>\n",
       "      <td>1</td>\n",
       "      <td>47</td>\n",
       "      <td>38</td>\n",
       "    </tr>\n",
       "    <tr>\n",
       "      <th>3</th>\n",
       "      <td>78643047.0</td>\n",
       "      <td>54.29</td>\n",
       "      <td>1.0</td>\n",
       "      <td>1.0</td>\n",
       "      <td>1.0</td>\n",
       "      <td>267.0</td>\n",
       "      <td>0.0</td>\n",
       "      <td>0.0</td>\n",
       "      <td>0.0</td>\n",
       "      <td>110.056926</td>\n",
       "      <td>...</td>\n",
       "      <td>4.0</td>\n",
       "      <td>4.0</td>\n",
       "      <td>54.29</td>\n",
       "      <td>0.00</td>\n",
       "      <td>7</td>\n",
       "      <td>2017</td>\n",
       "      <td>2</td>\n",
       "      <td>1</td>\n",
       "      <td>48</td>\n",
       "      <td>48</td>\n",
       "    </tr>\n",
       "    <tr>\n",
       "      <th>4</th>\n",
       "      <td>78643047.0</td>\n",
       "      <td>54.29</td>\n",
       "      <td>1.0</td>\n",
       "      <td>1.0</td>\n",
       "      <td>1.0</td>\n",
       "      <td>267.0</td>\n",
       "      <td>0.0</td>\n",
       "      <td>0.0</td>\n",
       "      <td>0.0</td>\n",
       "      <td>110.056926</td>\n",
       "      <td>...</td>\n",
       "      <td>4.0</td>\n",
       "      <td>4.0</td>\n",
       "      <td>54.29</td>\n",
       "      <td>0.00</td>\n",
       "      <td>7</td>\n",
       "      <td>2017</td>\n",
       "      <td>2</td>\n",
       "      <td>1</td>\n",
       "      <td>48</td>\n",
       "      <td>48</td>\n",
       "    </tr>\n",
       "  </tbody>\n",
       "</table>\n",
       "<p>5 rows × 24 columns</p>\n",
       "</div>"
      ],
      "text/plain": [
       "   IDAvisAutorisationCheque  Montant  VerifianceCPT1  VerifianceCPT2  \\\n",
       "0                78643044.0    20.00             0.0             0.0   \n",
       "1                78643045.0    20.00             0.0             0.0   \n",
       "2                78643046.0    57.64             0.0             0.0   \n",
       "3                78643047.0    54.29             1.0             1.0   \n",
       "4                78643047.0    54.29             1.0             1.0   \n",
       "\n",
       "   VerifianceCPT3   D2CB  ScoringFP1  ScoringFP2  ScoringFP3  TauxImpNb_RB  \\\n",
       "0             0.0  551.0         0.0         0.0         0.0     37.186668   \n",
       "1             0.0  551.0         0.0         0.0         0.0     48.844716   \n",
       "2             0.0  549.0         0.0         0.0         0.0     73.118280   \n",
       "3             1.0  267.0         0.0         0.0         0.0    110.056926   \n",
       "4             1.0  267.0         0.0         0.0         0.0    110.056926   \n",
       "\n",
       "   ...  DiffDateTr2  DiffDateTr3  CA3TRetMtt  CA3TR  Heure  Année  Mois  Jour  \\\n",
       "0  ...          4.0          4.0       20.00   0.00      7   2017     2     1   \n",
       "1  ...          4.0          4.0       28.61   8.61      7   2017     2     1   \n",
       "2  ...          4.0          4.0       57.64   0.00      7   2017     2     1   \n",
       "3  ...          4.0          4.0       54.29   0.00      7   2017     2     1   \n",
       "4  ...          4.0          4.0       54.29   0.00      7   2017     2     1   \n",
       "\n",
       "   Minute  Seconde  \n",
       "0      32       14  \n",
       "1      43       37  \n",
       "2      47       38  \n",
       "3      48       48  \n",
       "4      48       48  \n",
       "\n",
       "[5 rows x 24 columns]"
      ]
     },
     "execution_count": 34,
     "metadata": {},
     "output_type": "execute_result"
    }
   ],
   "source": [
    "X_tomek = pd.read_csv('/Users/annabellenarsama/Desktop/FouillesDonneesMassives/X_tomek.csv')\n",
    "X_tomek.head()"
   ]
  },
  {
   "cell_type": "code",
   "execution_count": 35,
   "metadata": {},
   "outputs": [
    {
     "data": {
      "text/html": [
       "<div>\n",
       "<style scoped>\n",
       "    .dataframe tbody tr th:only-of-type {\n",
       "        vertical-align: middle;\n",
       "    }\n",
       "\n",
       "    .dataframe tbody tr th {\n",
       "        vertical-align: top;\n",
       "    }\n",
       "\n",
       "    .dataframe thead th {\n",
       "        text-align: right;\n",
       "    }\n",
       "</style>\n",
       "<table border=\"1\" class=\"dataframe\">\n",
       "  <thead>\n",
       "    <tr style=\"text-align: right;\">\n",
       "      <th></th>\n",
       "      <th>FlagImpaye</th>\n",
       "    </tr>\n",
       "  </thead>\n",
       "  <tbody>\n",
       "    <tr>\n",
       "      <th>0</th>\n",
       "      <td>False</td>\n",
       "    </tr>\n",
       "    <tr>\n",
       "      <th>1</th>\n",
       "      <td>False</td>\n",
       "    </tr>\n",
       "    <tr>\n",
       "      <th>2</th>\n",
       "      <td>False</td>\n",
       "    </tr>\n",
       "    <tr>\n",
       "      <th>3</th>\n",
       "      <td>True</td>\n",
       "    </tr>\n",
       "    <tr>\n",
       "      <th>4</th>\n",
       "      <td>False</td>\n",
       "    </tr>\n",
       "  </tbody>\n",
       "</table>\n",
       "</div>"
      ],
      "text/plain": [
       "   FlagImpaye\n",
       "0       False\n",
       "1       False\n",
       "2       False\n",
       "3        True\n",
       "4       False"
      ]
     },
     "execution_count": 35,
     "metadata": {},
     "output_type": "execute_result"
    }
   ],
   "source": [
    "y_tomek = pd.read_csv('/Users/annabellenarsama/Desktop/FouillesDonneesMassives/y_tomek.csv')\n",
    "y_tomek.head()"
   ]
  },
  {
   "cell_type": "code",
   "execution_count": 36,
   "metadata": {},
   "outputs": [
    {
     "data": {
      "text/plain": [
       "(3251078, 24)"
      ]
     },
     "execution_count": 36,
     "metadata": {},
     "output_type": "execute_result"
    }
   ],
   "source": [
    "X_tomek.shape"
   ]
  },
  {
   "cell_type": "code",
   "execution_count": 37,
   "metadata": {},
   "outputs": [
    {
     "data": {
      "text/plain": [
       "(3251078, 1)"
      ]
     },
     "execution_count": 37,
     "metadata": {},
     "output_type": "execute_result"
    }
   ],
   "source": [
    "y_tomek.shape"
   ]
  },
  {
   "cell_type": "code",
   "execution_count": 41,
   "metadata": {},
   "outputs": [
    {
     "name": "stdout",
     "output_type": "stream",
     "text": [
      "Examples:\n",
      "    Total: 3251078\n",
      "   Positive: 50682 (1.56% of total)\n",
      "\n"
     ]
    }
   ],
   "source": [
    "# Imbalance Ratio du Tomek Link :\n",
    "\n",
    "neg, pos = np.bincount(y_tomek['FlagImpaye'])\n",
    "total = neg + pos\n",
    "print('Examples:\\n    Total: {}\\n   Positive: {} ({:.2f}% of total)\\n'.format(\n",
    "    total, pos, 100 * pos / total))"
   ]
  },
  {
   "cell_type": "markdown",
   "metadata": {},
   "source": [
    "# Chargement des données train ré-échantillonnées par SMOTEEN"
   ]
  },
  {
   "cell_type": "code",
   "execution_count": 42,
   "metadata": {},
   "outputs": [],
   "source": [
    "X = pd.read_csv('/Users/annabellenarsama/Desktop/FouillesDonneesMassives/X.csv', sep=',')\n",
    "y = pd.read_csv('/Users/annabellenarsama/Desktop/FouillesDonneesMassives/y.csv', sep=',')"
   ]
  },
  {
   "cell_type": "code",
   "execution_count": 43,
   "metadata": {},
   "outputs": [],
   "source": [
    "X.drop(columns=['Unnamed: 0'], inplace=True)\n",
    "y.drop(columns=['Unnamed: 0'], inplace=True)"
   ]
  },
  {
   "cell_type": "code",
   "execution_count": 44,
   "metadata": {},
   "outputs": [
    {
     "name": "stdout",
     "output_type": "stream",
     "text": [
      "<class 'pandas.core.frame.DataFrame'>\n",
      "RangeIndex: 3794420 entries, 0 to 3794419\n",
      "Data columns (total 24 columns):\n",
      " #   Column                    Dtype  \n",
      "---  ------                    -----  \n",
      " 0   IDAvisAutorisationCheque  float64\n",
      " 1   Montant                   float64\n",
      " 2   VerifianceCPT1            float64\n",
      " 3   VerifianceCPT2            float64\n",
      " 4   VerifianceCPT3            float64\n",
      " 5   D2CB                      float64\n",
      " 6   ScoringFP1                float64\n",
      " 7   ScoringFP2                float64\n",
      " 8   ScoringFP3                float64\n",
      " 9   TauxImpNb_RB              float64\n",
      " 10  TauxImpNB_CPM             float64\n",
      " 11  EcartNumCheq              float64\n",
      " 12  NbrMagasin3J              float64\n",
      " 13  DiffDateTr1               float64\n",
      " 14  DiffDateTr2               float64\n",
      " 15  DiffDateTr3               float64\n",
      " 16  CA3TRetMtt                float64\n",
      " 17  CA3TR                     float64\n",
      " 18  Heure                     int64  \n",
      " 19  Année                     int64  \n",
      " 20  Mois                      int64  \n",
      " 21  Jour                      int64  \n",
      " 22  Minute                    int64  \n",
      " 23  Seconde                   int64  \n",
      "dtypes: float64(18), int64(6)\n",
      "memory usage: 694.8 MB\n"
     ]
    }
   ],
   "source": [
    "X.info()"
   ]
  },
  {
   "cell_type": "code",
   "execution_count": 45,
   "metadata": {},
   "outputs": [
    {
     "name": "stdout",
     "output_type": "stream",
     "text": [
      "<class 'pandas.core.frame.DataFrame'>\n",
      "RangeIndex: 3794420 entries, 0 to 3794419\n",
      "Data columns (total 1 columns):\n",
      " #   Column      Dtype\n",
      "---  ------      -----\n",
      " 0   FlagImpaye  bool \n",
      "dtypes: bool(1)\n",
      "memory usage: 3.6 MB\n"
     ]
    }
   ],
   "source": [
    "y.info()"
   ]
  },
  {
   "cell_type": "code",
   "execution_count": 46,
   "metadata": {},
   "outputs": [
    {
     "name": "stdout",
     "output_type": "stream",
     "text": [
      "Dimensions de X : (3794420, 24)\n",
      "Noms des variables de X : \n",
      " Index(['IDAvisAutorisationCheque', 'Montant', 'VerifianceCPT1',\n",
      "       'VerifianceCPT2', 'VerifianceCPT3', 'D2CB', 'ScoringFP1', 'ScoringFP2',\n",
      "       'ScoringFP3', 'TauxImpNb_RB', 'TauxImpNB_CPM', 'EcartNumCheq',\n",
      "       'NbrMagasin3J', 'DiffDateTr1', 'DiffDateTr2', 'DiffDateTr3',\n",
      "       'CA3TRetMtt', 'CA3TR', 'Heure', 'Année', 'Mois', 'Jour', 'Minute',\n",
      "       'Seconde'],\n",
      "      dtype='object') \n",
      "\n",
      "\n",
      "Dimensions de y : (3794420, 1)\n",
      "Noms des variables de y : \n",
      " Index(['FlagImpaye'], dtype='object') \n"
     ]
    }
   ],
   "source": [
    "print(f\"Dimensions de X : {X.shape}\")\n",
    "print(f\"Noms des variables de X : \\n {X.columns} \")\n",
    "\n",
    "print(\"\\n\")\n",
    "\n",
    "print(f\"Dimensions de y : {y.shape}\")\n",
    "print(f\"Noms des variables de y : \\n {y.columns} \")"
   ]
  },
  {
   "cell_type": "code",
   "execution_count": 47,
   "metadata": {},
   "outputs": [
    {
     "name": "stdout",
     "output_type": "stream",
     "text": [
      "Examples:\n",
      "    Total: 3794420\n",
      "   Positive: 21925 (0.58% of total)\n",
      "\n"
     ]
    }
   ],
   "source": [
    "neg, pos = np.bincount(y['FlagImpaye'])\n",
    "total = neg + pos\n",
    "print('Examples:\\n    Total: {}\\n   Positive: {} ({:.2f}% of total)\\n'.format(\n",
    "    total, pos, 100 * pos / total))"
   ]
  },
  {
   "cell_type": "markdown",
   "metadata": {},
   "source": [
    "# K-Means"
   ]
  },
  {
   "cell_type": "code",
   "execution_count": 79,
   "metadata": {},
   "outputs": [
    {
     "name": "stderr",
     "output_type": "stream",
     "text": [
      "/Users/annabellenarsama/anaconda3/envs/bigdataenv/lib/python3.11/site-packages/sklearn/cluster/_kmeans.py:1416: FutureWarning: The default value of `n_init` will change from 10 to 'auto' in 1.4. Set the value of `n_init` explicitly to suppress the warning\n",
      "  super()._check_params_vs_input(X, default_n_init=10)\n"
     ]
    },
    {
     "data": {
      "text/html": [
       "<style>#sk-container-id-2 {color: black;}#sk-container-id-2 pre{padding: 0;}#sk-container-id-2 div.sk-toggleable {background-color: white;}#sk-container-id-2 label.sk-toggleable__label {cursor: pointer;display: block;width: 100%;margin-bottom: 0;padding: 0.3em;box-sizing: border-box;text-align: center;}#sk-container-id-2 label.sk-toggleable__label-arrow:before {content: \"▸\";float: left;margin-right: 0.25em;color: #696969;}#sk-container-id-2 label.sk-toggleable__label-arrow:hover:before {color: black;}#sk-container-id-2 div.sk-estimator:hover label.sk-toggleable__label-arrow:before {color: black;}#sk-container-id-2 div.sk-toggleable__content {max-height: 0;max-width: 0;overflow: hidden;text-align: left;background-color: #f0f8ff;}#sk-container-id-2 div.sk-toggleable__content pre {margin: 0.2em;color: black;border-radius: 0.25em;background-color: #f0f8ff;}#sk-container-id-2 input.sk-toggleable__control:checked~div.sk-toggleable__content {max-height: 200px;max-width: 100%;overflow: auto;}#sk-container-id-2 input.sk-toggleable__control:checked~label.sk-toggleable__label-arrow:before {content: \"▾\";}#sk-container-id-2 div.sk-estimator input.sk-toggleable__control:checked~label.sk-toggleable__label {background-color: #d4ebff;}#sk-container-id-2 div.sk-label input.sk-toggleable__control:checked~label.sk-toggleable__label {background-color: #d4ebff;}#sk-container-id-2 input.sk-hidden--visually {border: 0;clip: rect(1px 1px 1px 1px);clip: rect(1px, 1px, 1px, 1px);height: 1px;margin: -1px;overflow: hidden;padding: 0;position: absolute;width: 1px;}#sk-container-id-2 div.sk-estimator {font-family: monospace;background-color: #f0f8ff;border: 1px dotted black;border-radius: 0.25em;box-sizing: border-box;margin-bottom: 0.5em;}#sk-container-id-2 div.sk-estimator:hover {background-color: #d4ebff;}#sk-container-id-2 div.sk-parallel-item::after {content: \"\";width: 100%;border-bottom: 1px solid gray;flex-grow: 1;}#sk-container-id-2 div.sk-label:hover label.sk-toggleable__label {background-color: #d4ebff;}#sk-container-id-2 div.sk-serial::before {content: \"\";position: absolute;border-left: 1px solid gray;box-sizing: border-box;top: 0;bottom: 0;left: 50%;z-index: 0;}#sk-container-id-2 div.sk-serial {display: flex;flex-direction: column;align-items: center;background-color: white;padding-right: 0.2em;padding-left: 0.2em;position: relative;}#sk-container-id-2 div.sk-item {position: relative;z-index: 1;}#sk-container-id-2 div.sk-parallel {display: flex;align-items: stretch;justify-content: center;background-color: white;position: relative;}#sk-container-id-2 div.sk-item::before, #sk-container-id-2 div.sk-parallel-item::before {content: \"\";position: absolute;border-left: 1px solid gray;box-sizing: border-box;top: 0;bottom: 0;left: 50%;z-index: -1;}#sk-container-id-2 div.sk-parallel-item {display: flex;flex-direction: column;z-index: 1;position: relative;background-color: white;}#sk-container-id-2 div.sk-parallel-item:first-child::after {align-self: flex-end;width: 50%;}#sk-container-id-2 div.sk-parallel-item:last-child::after {align-self: flex-start;width: 50%;}#sk-container-id-2 div.sk-parallel-item:only-child::after {width: 0;}#sk-container-id-2 div.sk-dashed-wrapped {border: 1px dashed gray;margin: 0 0.4em 0.5em 0.4em;box-sizing: border-box;padding-bottom: 0.4em;background-color: white;}#sk-container-id-2 div.sk-label label {font-family: monospace;font-weight: bold;display: inline-block;line-height: 1.2em;}#sk-container-id-2 div.sk-label-container {text-align: center;}#sk-container-id-2 div.sk-container {/* jupyter's `normalize.less` sets `[hidden] { display: none; }` but bootstrap.min.css set `[hidden] { display: none !important; }` so we also need the `!important` here to be able to override the default hidden behavior on the sphinx rendered scikit-learn.org. See: https://github.com/scikit-learn/scikit-learn/issues/21755 */display: inline-block !important;position: relative;}#sk-container-id-2 div.sk-text-repr-fallback {display: none;}</style><div id=\"sk-container-id-2\" class=\"sk-top-container\"><div class=\"sk-text-repr-fallback\"><pre>KMeans(n_clusters=2, random_state=1)</pre><b>In a Jupyter environment, please rerun this cell to show the HTML representation or trust the notebook. <br />On GitHub, the HTML representation is unable to render, please try loading this page with nbviewer.org.</b></div><div class=\"sk-container\" hidden><div class=\"sk-item\"><div class=\"sk-estimator sk-toggleable\"><input class=\"sk-toggleable__control sk-hidden--visually\" id=\"sk-estimator-id-2\" type=\"checkbox\" checked><label for=\"sk-estimator-id-2\" class=\"sk-toggleable__label sk-toggleable__label-arrow\">KMeans</label><div class=\"sk-toggleable__content\"><pre>KMeans(n_clusters=2, random_state=1)</pre></div></div></div></div></div>"
      ],
      "text/plain": [
       "KMeans(n_clusters=2, random_state=1)"
      ]
     },
     "execution_count": 79,
     "metadata": {},
     "output_type": "execute_result"
    }
   ],
   "source": [
    "from sklearn.cluster import KMeans\n",
    "\n",
    "# Instanciation de l'algorithme :\n",
    "kmeans = KMeans(n_clusters=2, random_state=1)\n",
    "\n",
    "# Fit du modèle sur les données rééchantillonnées :\n",
    "kmeans.fit(X_tomek, y_tomek)"
   ]
  },
  {
   "cell_type": "code",
   "execution_count": 80,
   "metadata": {},
   "outputs": [
    {
     "name": "stdout",
     "output_type": "stream",
     "text": [
      "Centroïdes de chaque exemple : \n",
      " [[7.92740779e+07 5.84940266e+01 2.35443238e-01 2.50560623e-01\n",
      "  2.75855087e-01 3.58179406e+02 1.61660103e+00 3.13205984e+00\n",
      "  9.76480648e-02 3.86652718e+01 3.84445858e+01 9.82945064e+03\n",
      "  1.03912755e+00 3.81793035e+00 4.11874252e+00 4.15314213e+00\n",
      "  6.56583118e+01 7.16428513e+00 1.39178170e+01 2.01700000e+03\n",
      "  2.55157033e+00 1.53370731e+01 2.94907070e+01 2.95049328e+01]\n",
      " [8.05514080e+07 6.00595895e+01 2.95838615e-01 3.15998046e-01\n",
      "  3.49942426e-01 3.25744074e+02 2.03353109e+00 2.30295178e+00\n",
      "  1.24389114e-01 3.89213792e+01 3.84397053e+01 8.61779714e+03\n",
      "  1.03693481e+00 3.86129865e+00 4.15656107e+00 4.18950884e+00\n",
      "  6.72614297e+01 7.20184012e+00 1.40411047e+01 2.01700000e+03\n",
      "  4.53827456e+00 1.53448903e+01 2.94977671e+01 2.95047211e+01]] \n",
      "\n",
      "Étiquetage des exemples : [0 0 0 ... 1 1 1]\n"
     ]
    }
   ],
   "source": [
    "# Paramètres du modèle :\n",
    "centers = kmeans.cluster_centers_\n",
    "labels = kmeans.labels_\n",
    "\n",
    "# Affichage des paramètres du modèle :\n",
    "print(\"Centroïdes de chaque exemple : \\n\", centers, \"\\n\")\n",
    "print(\"Étiquetage des exemples :\", labels)"
   ]
  },
  {
   "cell_type": "code",
   "execution_count": 81,
   "metadata": {},
   "outputs": [],
   "source": [
    "# Prédiction :\n",
    "y_pred_kmeans = kmeans.predict(X_test)"
   ]
  },
  {
   "cell_type": "code",
   "execution_count": 82,
   "metadata": {},
   "outputs": [
    {
     "data": {
      "text/html": [
       "<div>\n",
       "<style scoped>\n",
       "    .dataframe tbody tr th:only-of-type {\n",
       "        vertical-align: middle;\n",
       "    }\n",
       "\n",
       "    .dataframe tbody tr th {\n",
       "        vertical-align: top;\n",
       "    }\n",
       "\n",
       "    .dataframe thead th {\n",
       "        text-align: right;\n",
       "    }\n",
       "</style>\n",
       "<table border=\"1\" class=\"dataframe\">\n",
       "  <thead>\n",
       "    <tr style=\"text-align: right;\">\n",
       "      <th>col_0</th>\n",
       "      <th>1</th>\n",
       "      <th>All</th>\n",
       "    </tr>\n",
       "    <tr>\n",
       "      <th>FlagImpaye</th>\n",
       "      <th></th>\n",
       "      <th></th>\n",
       "    </tr>\n",
       "  </thead>\n",
       "  <tbody>\n",
       "    <tr>\n",
       "      <th>False</th>\n",
       "      <td>1382092</td>\n",
       "      <td>1382092</td>\n",
       "    </tr>\n",
       "    <tr>\n",
       "      <th>True</th>\n",
       "      <td>11940</td>\n",
       "      <td>11940</td>\n",
       "    </tr>\n",
       "    <tr>\n",
       "      <th>All</th>\n",
       "      <td>1394032</td>\n",
       "      <td>1394032</td>\n",
       "    </tr>\n",
       "  </tbody>\n",
       "</table>\n",
       "</div>"
      ],
      "text/plain": [
       "col_0             1      All\n",
       "FlagImpaye                  \n",
       "False       1382092  1382092\n",
       "True          11940    11940\n",
       "All         1394032  1394032"
      ]
     },
     "execution_count": 82,
     "metadata": {},
     "output_type": "execute_result"
    }
   ],
   "source": [
    "# Évaluation :\n",
    "from sklearn.metrics import f1_score, precision_score, recall_score, classification_report, confusion_matrix\n",
    "\n",
    "# Matrice de confusion :\n",
    "conf_m = pd.crosstab(y_test, y_pred_kmeans, margins=True)\n",
    "conf_m\n"
   ]
  },
  {
   "cell_type": "code",
   "execution_count": 83,
   "metadata": {},
   "outputs": [
    {
     "data": {
      "text/plain": [
       "array([[      0, 1382092],\n",
       "       [      0,   11940]])"
      ]
     },
     "execution_count": 83,
     "metadata": {},
     "output_type": "execute_result"
    }
   ],
   "source": [
    "mc = confusion_matrix(y_test, y_pred_kmeans)\n",
    "mc"
   ]
  },
  {
   "cell_type": "code",
   "execution_count": 84,
   "metadata": {},
   "outputs": [
    {
     "name": "stderr",
     "output_type": "stream",
     "text": [
      "/Users/annabellenarsama/anaconda3/envs/bigdataenv/lib/python3.11/site-packages/sklearn/metrics/_classification.py:1471: UndefinedMetricWarning: Precision and F-score are ill-defined and being set to 0.0 in labels with no predicted samples. Use `zero_division` parameter to control this behavior.\n",
      "  _warn_prf(average, modifier, msg_start, len(result))\n",
      "/Users/annabellenarsama/anaconda3/envs/bigdataenv/lib/python3.11/site-packages/sklearn/metrics/_classification.py:1471: UndefinedMetricWarning: Precision and F-score are ill-defined and being set to 0.0 in labels with no predicted samples. Use `zero_division` parameter to control this behavior.\n",
      "  _warn_prf(average, modifier, msg_start, len(result))\n"
     ]
    },
    {
     "name": "stdout",
     "output_type": "stream",
     "text": [
      "              precision    recall  f1-score   support\n",
      "\n",
      "       False       0.00      0.00      0.00   1382092\n",
      "        True       0.01      1.00      0.02     11940\n",
      "\n",
      "    accuracy                           0.01   1394032\n",
      "   macro avg       0.00      0.50      0.01   1394032\n",
      "weighted avg       0.00      0.01      0.00   1394032\n",
      "\n"
     ]
    },
    {
     "name": "stderr",
     "output_type": "stream",
     "text": [
      "/Users/annabellenarsama/anaconda3/envs/bigdataenv/lib/python3.11/site-packages/sklearn/metrics/_classification.py:1471: UndefinedMetricWarning: Precision and F-score are ill-defined and being set to 0.0 in labels with no predicted samples. Use `zero_division` parameter to control this behavior.\n",
      "  _warn_prf(average, modifier, msg_start, len(result))\n"
     ]
    }
   ],
   "source": [
    "# Rapport complet des métriques du modèle (se concentre sur la classe majoritaire):\n",
    "metriques = classification_report(y_test, y_pred_kmeans)\n",
    "print(metriques)"
   ]
  },
  {
   "cell_type": "markdown",
   "metadata": {},
   "source": [
    "# Métriques du modèle sur la classe minoritaire"
   ]
  },
  {
   "cell_type": "code",
   "execution_count": 85,
   "metadata": {},
   "outputs": [
    {
     "name": "stdout",
     "output_type": "stream",
     "text": [
      "La F1-mesure avec un weighted average est de : 0.00014547529092249242.\n"
     ]
    }
   ],
   "source": [
    "# Binary :\n",
    "#f1_bin = f1_score(y_test, y_pred, average='binary', pos_label=1)\n",
    "#print(f\"La F1-mesure avec un binary average est de : {f1_bin}.\")\n",
    "\n",
    "# Weighted (par défaut) :\n",
    "f1_weigh = f1_score(y_test, y_pred_kmeans, average='weighted', pos_label=1)\n",
    "print(f\"La F1-mesure avec un weighted average est de : {f1_weigh}.\")\n",
    "\n",
    "# Macro :\n",
    "#f1_mac = f1_score(y_test, y_pred, average='macro', pos_label=1)\n",
    "#print(f\"La F1-mesure avec un macro average est de : {f1_mac}.\")\n",
    "\n",
    "# Micro :\n",
    "#f1_mic = f1_score(y_test, y_pred, average='micro', pos_label=1)\n",
    "#print(f\"La F1-mesure avec un micro average est de : {f1_mic}.\")\n",
    "\n",
    "# None (f1 score pour chaque classe comme le ferait le binaire):\n",
    "#f1_none = f1_score(y_test, y_pred, average=None)\n",
    "#print(f\"La F1-mesure pour chaque classe est de : {f1_none}.\")"
   ]
  },
  {
   "cell_type": "markdown",
   "metadata": {},
   "source": [
    "# Régression logistique"
   ]
  },
  {
   "cell_type": "code",
   "execution_count": 86,
   "metadata": {},
   "outputs": [
    {
     "name": "stderr",
     "output_type": "stream",
     "text": [
      "/Users/annabellenarsama/anaconda3/envs/bigdataenv/lib/python3.11/site-packages/sklearn/utils/validation.py:1183: DataConversionWarning: A column-vector y was passed when a 1d array was expected. Please change the shape of y to (n_samples, ), for example using ravel().\n",
      "  y = column_or_1d(y, warn=True)\n",
      "/Users/annabellenarsama/anaconda3/envs/bigdataenv/lib/python3.11/site-packages/sklearn/metrics/_classification.py:1471: UndefinedMetricWarning: Precision is ill-defined and being set to 0.0 in labels with no predicted samples. Use `zero_division` parameter to control this behavior.\n",
      "  _warn_prf(average, modifier, msg_start, len(result))\n"
     ]
    },
    {
     "name": "stdout",
     "output_type": "stream",
     "text": [
      "Precision : [0.99143492 0.        ]\n",
      "Recall : [1. 0.]\n",
      "F1 Score : [0.99569904 0.        ]\n"
     ]
    }
   ],
   "source": [
    "from sklearn.linear_model import LogisticRegression\n",
    "from sklearn import metrics\n",
    "\n",
    "# Création du modèle :\n",
    "reglog = LogisticRegression()\n",
    "\n",
    "# Entraînement :\n",
    "reglog.fit(X_tomek, y_tomek)\n",
    "\n",
    "# Prédictions :\n",
    "y_pred_reg = reglog.predict(X_test)\n",
    "\n",
    "# Évaluation :\n",
    "precision = metrics.precision_score(y_test, y_pred_reg, average=None, pos_label=1)\n",
    "recall = metrics.recall_score(y_test, y_pred_reg, average=None, pos_label=1)\n",
    "f1_score = metrics.f1_score(y_test, y_pred_reg,average=None, pos_label=1)\n",
    "\n",
    "# Affichage des performances :\n",
    "print(f\"Precision : {precision}\")\n",
    "print(f\"Recall : {recall}\")\n",
    "print(f\"F1 Score : {f1_score}\")"
   ]
  },
  {
   "cell_type": "markdown",
   "metadata": {},
   "source": [
    "# Auto-Encodeur"
   ]
  },
  {
   "cell_type": "code",
   "execution_count": 87,
   "metadata": {},
   "outputs": [
    {
     "name": "stdout",
     "output_type": "stream",
     "text": [
      "Epoch 1/10\n",
      "25400/25400 [==============================] - 10s 401us/step - loss: -702941560576147456.0000\n",
      "Epoch 2/10\n",
      "25400/25400 [==============================] - 10s 390us/step - loss: -4307110302417158144.0000\n",
      "Epoch 3/10\n",
      "25400/25400 [==============================] - 10s 392us/step - loss: -11081184948470677504.0000\n",
      "Epoch 4/10\n",
      "25400/25400 [==============================] - 10s 390us/step - loss: -20998264160056770560.0000\n",
      "Epoch 5/10\n",
      "25400/25400 [==============================] - 15s 585us/step - loss: -34003606551763353600.0000\n",
      "Epoch 6/10\n",
      "25400/25400 [==============================] - 11s 417us/step - loss: -50129901703795834880.0000\n",
      "Epoch 7/10\n",
      "25400/25400 [==============================] - 9s 360us/step - loss: -69386009480850833408.0000\n",
      "Epoch 8/10\n",
      "25400/25400 [==============================] - 9s 355us/step - loss: -91771503272416772096.0000\n",
      "Epoch 9/10\n",
      "25400/25400 [==============================] - 9s 374us/step - loss: -117287077969842405376.0000\n",
      "Epoch 10/10\n",
      "25400/25400 [==============================] - 9s 361us/step - loss: -145932284972383600640.0000\n"
     ]
    },
    {
     "data": {
      "image/png": "[encoded data removed]",
      "text/plain": [
       "<Figure size 640x480 with 1 Axes>"
      ]
     },
     "metadata": {},
     "output_type": "display_data"
    },
    {
     "name": "stderr",
     "output_type": "stream",
     "text": [
      "/Users/annabellenarsama/anaconda3/envs/bigdataenv/lib/python3.11/site-packages/keras/src/engine/training.py:3103: UserWarning: You are saving your model as an HDF5 file via `model.save()`. This file format is considered legacy. We recommend using instead the native Keras format, e.g. `model.save('my_model.keras')`.\n",
      "  saving_api.save_model(\n"
     ]
    }
   ],
   "source": [
    "from keras.layers import Input, Dense\n",
    "from keras.models import Model\n",
    "import tensorflow as tf\n",
    "\n",
    "# Dimension des données d'entrée :\n",
    "input_dim = X_tomek.shape[1]  # nombre de caractéristiques dans nos données\n",
    "\n",
    "# Architecture de l'auto-encodeur :\n",
    "input_layer = Input(shape=(input_dim))\n",
    "encoded = Dense(16, activation='relu')(input_layer)  # couche d'encodage\n",
    "decoded = Dense(input_dim, activation='sigmoid')(encoded)  # couche de décodage\n",
    "\n",
    "# Créer le modèle :\n",
    "autoencoder = Model(input_layer, decoded)\n",
    "\n",
    "# Compiler le modèle :\n",
    "autoencoder.compile(optimizer='adam', loss='binary_crossentropy')\n",
    "\n",
    "# Entraîner le modèle :\n",
    "with tf.device('/device:GPU:0'): # utiliser le GPU pour les calculs\n",
    "    history = autoencoder.fit(X_tomek, X_tomek, epochs=10, batch_size=128, shuffle=True)\n",
    "\n",
    "# Visualisation de l'évolution de la perte :\n",
    "plt.plot(history.history['loss'])\n",
    "plt.xlabel('Époch')\n",
    "plt.ylabel('Perte')\n",
    "plt.show()\n",
    "\n",
    "# Sauvegarde du modèle :\n",
    "autoencoder.save('autoencoder_model.h5')"
   ]
  },
  {
   "cell_type": "code",
   "execution_count": 88,
   "metadata": {},
   "outputs": [
    {
     "name": "stdout",
     "output_type": "stream",
     "text": [
      "43564/43564 [==============================] - 9s 208us/step\n"
     ]
    }
   ],
   "source": [
    "# Prédiction :\n",
    "\n",
    "# Charger le modèle entraîné :\n",
    "loaded_autoencoder = tf.keras.models.load_model('autoencoder_model.h5')\n",
    "\n",
    "# Faire des prédictions sur l'ensemble de test :\n",
    "y_pred_nn = loaded_autoencoder.predict(X_test)\n"
   ]
  },
  {
   "cell_type": "code",
   "execution_count": 89,
   "metadata": {},
   "outputs": [
    {
     "name": "stdout",
     "output_type": "stream",
     "text": [
      "F1-score: 0.016984691018028807\n"
     ]
    }
   ],
   "source": [
    "from sklearn.metrics import f1_score\n",
    "import numpy as np\n",
    "\n",
    "# Calculer la perte de reconstruction (MSE)\n",
    "mse = np.mean(np.power(X_test - y_pred_nn, 2), axis=1)\n",
    "\n",
    "# Supposer un seuil pour définir les anomalies\n",
    "seuil = 0.1  # Vous devez ajuster ce seuil en fonction de votre problème\n",
    "\n",
    "# Binariser les prédictions en fonction du seuil\n",
    "anomalies = (mse > seuil).astype(int)\n",
    "\n",
    "# Calculer le F1-score\n",
    "f1 = f1_score(y_test, anomalies)\n",
    "\n",
    "print(\"F1-score:\", f1)"
   ]
  },
  {
   "cell_type": "markdown",
   "metadata": {},
   "source": [
    "# Loss"
   ]
  },
  {
   "cell_type": "code",
   "execution_count": 90,
   "metadata": {},
   "outputs": [],
   "source": [
    "def EtudeGainPerte(X_test, y_test, y_pred):\n",
    "\n",
    "    poids = 0.05\n",
    "\n",
    "    tab = []\n",
    "\n",
    "#Passage des y en liste\n",
    "    y_test=list(y_test)\n",
    "    y_pred=list(y_pred)\n",
    "\n",
    "    for i in range(len(X_test)):\n",
    "        TN=0\n",
    "        FP=0\n",
    "        FN=0\n",
    "        TP=0\n",
    "\n",
    "        M = X_test.iloc[i]['Montant']\n",
    "\n",
    "        if (y_test[i]==0 & y_pred[i]==0):\n",
    "            TN = 0.05 * M\n",
    "        elif(y_test[i]==0 & y_pred[i]==1):\n",
    "            FP = 0.70 * M * 0.05\n",
    "        elif(y_test[i]==1 & y_pred[i]==1):\n",
    "            TP = poids * M \n",
    "        else:\n",
    "            if M <= 20:\n",
    "                FN = 0\n",
    "            elif M <= 50:\n",
    "                FN = 0.2 * M\n",
    "            elif M <= 100:\n",
    "                FN = 0.3 * M\n",
    "            elif M <= 200:\n",
    "                FN = 0.5 * M\n",
    "            else:\n",
    "                FN = 0.8 * M\n",
    "        rt = TN + FP - FN + TP\n",
    "\n",
    "\n",
    "        tab.append(rt)\n",
    "    return tab"
   ]
  },
  {
   "cell_type": "code",
   "execution_count": 94,
   "metadata": {},
   "outputs": [
    {
     "data": {
      "text/plain": [
       "4343895.025502005"
      ]
     },
     "execution_count": 94,
     "metadata": {},
     "output_type": "execute_result"
    }
   ],
   "source": [
    "loss_kmeans = EtudeGainPerte(X_test, y_test, y_pred_kmeans)\n",
    "sum(loss_kmeans)"
   ]
  },
  {
   "cell_type": "code",
   "execution_count": 92,
   "metadata": {},
   "outputs": [
    {
     "data": {
      "text/plain": [
       "3659124.154501696"
      ]
     },
     "execution_count": 92,
     "metadata": {},
     "output_type": "execute_result"
    }
   ],
   "source": [
    "loss_reg = EtudeGainPerte(X_test, y_test, y_pred_reg)\n",
    "sum(loss_reg)"
   ]
  }
 ],
 "metadata": {
  "kernelspec": {
   "display_name": "venv",
   "language": "python",
   "name": "python3"
  },
  "language_info": {
   "codemirror_mode": {
    "name": "ipython",
    "version": 3
   },
   "file_extension": ".py",
   "mimetype": "text/x-python",
   "name": "python",
   "nbconvert_exporter": "python",
   "pygments_lexer": "ipython3",
   "version": "3.11.5"
  }
 },
 "nbformat": 4,
 "nbformat_minor": 2
}
